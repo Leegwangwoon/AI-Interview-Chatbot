{
 "cells": [
  {
   "cell_type": "markdown",
   "metadata": {},
   "source": [
    "# AI 모의 면접 봇"
   ]
  },
  {
   "cell_type": "code",
   "execution_count": null,
   "metadata": {},
   "outputs": [],
   "source": [
    "from openai import OpenAI\n",
    "import os\n",
    "from dotenv import load_dotenv\n",
    "\n",
    "load_dotenv()\n",
    "client = OpenAI(api_key=os.getenv(\"OPENAI_API_KEY\"))\n",
    "\n",
    "applicant = {\n",
    "    \"name\": \"홍길동\",\n",
    "    \"age\": 28,\n",
    "    \"degree\": \"컴퓨터공학 학사\",\n",
    "    \"experience\": \"3년\",\n",
    "    \"portfolio\": [\"웹 개발 프로젝트\", \"AI 챗봇 개발\", \"모바일 앱 개발\"],\n",
    "    \"skills\": [\"Python\", \"Django\", \"TensorFlow\", \"React\"]\n",
    "}\n",
    "\n",
    "def generate_question(context):\n",
    "    response = client.chat.completions.create(\n",
    "        model=\"gpt-3.5-turbo\",\n",
    "        messages=[\n",
    "            {\"role\": \"system\", \"content\": \"당신은 기술 회사의 AI 면접관입니다. 한국어로 대화해주세요. 한 번에 하나의 질문만 생성해주세요.\"},\n",
    "            {\"role\": \"user\", \"content\": f\"다음 맥락을 바탕으로 관련된 면접 질문을 하나만 생성해주세요: {context}\"}\n",
    "        ]\n",
    "    )\n",
    "    return response.choices[0].message.content\n",
    "\n",
    "def start_interview():\n",
    "    print(f\"지원자: {applicant['name']}, 나이: {applicant['age']}, 학력: {applicant['degree']}, 경력: {applicant['experience']}\\n\")\n",
    "    print(\"지원자의 포트폴리오:\", ', '.join(applicant['portfolio']))\n",
    "    print(\"지원자의 주요 기술:\", ', '.join(applicant['skills']), \"\\n\")\n",
    "\n",
    "    print(\"📝 모의 면접을 시작합니다! (종료하려면 '종료'를 입력하세요)\\n\")\n",
    "\n",
    "    context = f\"지원자 정보: {applicant}\"\n",
    "    \n",
    "    while True:\n",
    "        question = generate_question(context)\n",
    "        print(f\"면접관: {question}\")\n",
    "\n",
    "        answer = input(\"지원자: \").strip()\n",
    "        if answer.lower() == '종료':\n",
    "            print(\"면접을 종료합니다.\")\n",
    "            break\n",
    "\n",
    "        context += f\"\\n질문: {question}\\n답변: {answer}\"\n",
    "\n",
    "start_interview()"
   ]
  }
 ],
 "metadata": {
  "kernelspec": {
   "display_name": "vectordv_env",
   "language": "python",
   "name": "python3"
  },
  "language_info": {
   "codemirror_mode": {
    "name": "ipython",
    "version": 3
   },
   "file_extension": ".py",
   "mimetype": "text/x-python",
   "name": "python",
   "nbconvert_exporter": "python",
   "pygments_lexer": "ipython3",
   "version": "3.9.21"
  }
 },
 "nbformat": 4,
 "nbformat_minor": 2
}
